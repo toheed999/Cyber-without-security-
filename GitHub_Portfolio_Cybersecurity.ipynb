{
  "nbformat": 4,
  "nbformat_minor": 0,
  "metadata": {
    "colab": {
      "provenance": [],
      "authorship_tag": "ABX9TyMLFA4EUByTkcFn4bfz3WQh",
      "include_colab_link": true
    },
    "kernelspec": {
      "name": "python3",
      "display_name": "Python 3"
    },
    "language_info": {
      "name": "python"
    }
  },
  "cells": [
    {
      "cell_type": "markdown",
      "metadata": {
        "id": "view-in-github",
        "colab_type": "text"
      },
      "source": [
        "<a href=\"https://colab.research.google.com/github/toheed999/The-Cyber-Shift-Analysing-5-Years-of-Cyber-Attacks/blob/main/GitHub_Portfolio_Cybersecurity.ipynb\" target=\"_parent\"><img src=\"https://colab.research.google.com/assets/colab-badge.svg\" alt=\"Open In Colab\"/></a>"
      ]
    },
    {
      "cell_type": "markdown",
      "source": [
        "# What does the data on Cybersecurity Threats show us?"
      ],
      "metadata": {
        "id": "cDv1pPeLH6Mb"
      }
    },
    {
      "cell_type": "code",
      "execution_count": null,
      "metadata": {
        "id": "iem_YAyxAnRL",
        "colab": {
          "base_uri": "https://localhost:8080/",
          "height": 1000
        },
        "collapsed": true,
        "outputId": "f29ec2a4-3388-4d5c-abbd-e69929bb7800"
      },
      "outputs": [
        {
          "output_type": "display_data",
          "data": {
            "text/plain": [
              "<IPython.core.display.HTML object>"
            ],
            "text/html": [
              "\n",
              "     <input type=\"file\" id=\"files-e0076426-8fb1-4cd7-bc60-a0a52892dae5\" name=\"files[]\" multiple disabled\n",
              "        style=\"border:none\" />\n",
              "     <output id=\"result-e0076426-8fb1-4cd7-bc60-a0a52892dae5\">\n",
              "      Upload widget is only available when the cell has been executed in the\n",
              "      current browser session. Please rerun this cell to enable.\n",
              "      </output>\n",
              "      <script>// Copyright 2017 Google LLC\n",
              "//\n",
              "// Licensed under the Apache License, Version 2.0 (the \"License\");\n",
              "// you may not use this file except in compliance with the License.\n",
              "// You may obtain a copy of the License at\n",
              "//\n",
              "//      http://www.apache.org/licenses/LICENSE-2.0\n",
              "//\n",
              "// Unless required by applicable law or agreed to in writing, software\n",
              "// distributed under the License is distributed on an \"AS IS\" BASIS,\n",
              "// WITHOUT WARRANTIES OR CONDITIONS OF ANY KIND, either express or implied.\n",
              "// See the License for the specific language governing permissions and\n",
              "// limitations under the License.\n",
              "\n",
              "/**\n",
              " * @fileoverview Helpers for google.colab Python module.\n",
              " */\n",
              "(function(scope) {\n",
              "function span(text, styleAttributes = {}) {\n",
              "  const element = document.createElement('span');\n",
              "  element.textContent = text;\n",
              "  for (const key of Object.keys(styleAttributes)) {\n",
              "    element.style[key] = styleAttributes[key];\n",
              "  }\n",
              "  return element;\n",
              "}\n",
              "\n",
              "// Max number of bytes which will be uploaded at a time.\n",
              "const MAX_PAYLOAD_SIZE = 100 * 1024;\n",
              "\n",
              "function _uploadFiles(inputId, outputId) {\n",
              "  const steps = uploadFilesStep(inputId, outputId);\n",
              "  const outputElement = document.getElementById(outputId);\n",
              "  // Cache steps on the outputElement to make it available for the next call\n",
              "  // to uploadFilesContinue from Python.\n",
              "  outputElement.steps = steps;\n",
              "\n",
              "  return _uploadFilesContinue(outputId);\n",
              "}\n",
              "\n",
              "// This is roughly an async generator (not supported in the browser yet),\n",
              "// where there are multiple asynchronous steps and the Python side is going\n",
              "// to poll for completion of each step.\n",
              "// This uses a Promise to block the python side on completion of each step,\n",
              "// then passes the result of the previous step as the input to the next step.\n",
              "function _uploadFilesContinue(outputId) {\n",
              "  const outputElement = document.getElementById(outputId);\n",
              "  const steps = outputElement.steps;\n",
              "\n",
              "  const next = steps.next(outputElement.lastPromiseValue);\n",
              "  return Promise.resolve(next.value.promise).then((value) => {\n",
              "    // Cache the last promise value to make it available to the next\n",
              "    // step of the generator.\n",
              "    outputElement.lastPromiseValue = value;\n",
              "    return next.value.response;\n",
              "  });\n",
              "}\n",
              "\n",
              "/**\n",
              " * Generator function which is called between each async step of the upload\n",
              " * process.\n",
              " * @param {string} inputId Element ID of the input file picker element.\n",
              " * @param {string} outputId Element ID of the output display.\n",
              " * @return {!Iterable<!Object>} Iterable of next steps.\n",
              " */\n",
              "function* uploadFilesStep(inputId, outputId) {\n",
              "  const inputElement = document.getElementById(inputId);\n",
              "  inputElement.disabled = false;\n",
              "\n",
              "  const outputElement = document.getElementById(outputId);\n",
              "  outputElement.innerHTML = '';\n",
              "\n",
              "  const pickedPromise = new Promise((resolve) => {\n",
              "    inputElement.addEventListener('change', (e) => {\n",
              "      resolve(e.target.files);\n",
              "    });\n",
              "  });\n",
              "\n",
              "  const cancel = document.createElement('button');\n",
              "  inputElement.parentElement.appendChild(cancel);\n",
              "  cancel.textContent = 'Cancel upload';\n",
              "  const cancelPromise = new Promise((resolve) => {\n",
              "    cancel.onclick = () => {\n",
              "      resolve(null);\n",
              "    };\n",
              "  });\n",
              "\n",
              "  // Wait for the user to pick the files.\n",
              "  const files = yield {\n",
              "    promise: Promise.race([pickedPromise, cancelPromise]),\n",
              "    response: {\n",
              "      action: 'starting',\n",
              "    }\n",
              "  };\n",
              "\n",
              "  cancel.remove();\n",
              "\n",
              "  // Disable the input element since further picks are not allowed.\n",
              "  inputElement.disabled = true;\n",
              "\n",
              "  if (!files) {\n",
              "    return {\n",
              "      response: {\n",
              "        action: 'complete',\n",
              "      }\n",
              "    };\n",
              "  }\n",
              "\n",
              "  for (const file of files) {\n",
              "    const li = document.createElement('li');\n",
              "    li.append(span(file.name, {fontWeight: 'bold'}));\n",
              "    li.append(span(\n",
              "        `(${file.type || 'n/a'}) - ${file.size} bytes, ` +\n",
              "        `last modified: ${\n",
              "            file.lastModifiedDate ? file.lastModifiedDate.toLocaleDateString() :\n",
              "                                    'n/a'} - `));\n",
              "    const percent = span('0% done');\n",
              "    li.appendChild(percent);\n",
              "\n",
              "    outputElement.appendChild(li);\n",
              "\n",
              "    const fileDataPromise = new Promise((resolve) => {\n",
              "      const reader = new FileReader();\n",
              "      reader.onload = (e) => {\n",
              "        resolve(e.target.result);\n",
              "      };\n",
              "      reader.readAsArrayBuffer(file);\n",
              "    });\n",
              "    // Wait for the data to be ready.\n",
              "    let fileData = yield {\n",
              "      promise: fileDataPromise,\n",
              "      response: {\n",
              "        action: 'continue',\n",
              "      }\n",
              "    };\n",
              "\n",
              "    // Use a chunked sending to avoid message size limits. See b/62115660.\n",
              "    let position = 0;\n",
              "    do {\n",
              "      const length = Math.min(fileData.byteLength - position, MAX_PAYLOAD_SIZE);\n",
              "      const chunk = new Uint8Array(fileData, position, length);\n",
              "      position += length;\n",
              "\n",
              "      const base64 = btoa(String.fromCharCode.apply(null, chunk));\n",
              "      yield {\n",
              "        response: {\n",
              "          action: 'append',\n",
              "          file: file.name,\n",
              "          data: base64,\n",
              "        },\n",
              "      };\n",
              "\n",
              "      let percentDone = fileData.byteLength === 0 ?\n",
              "          100 :\n",
              "          Math.round((position / fileData.byteLength) * 100);\n",
              "      percent.textContent = `${percentDone}% done`;\n",
              "\n",
              "    } while (position < fileData.byteLength);\n",
              "  }\n",
              "\n",
              "  // All done.\n",
              "  yield {\n",
              "    response: {\n",
              "      action: 'complete',\n",
              "    }\n",
              "  };\n",
              "}\n",
              "\n",
              "scope.google = scope.google || {};\n",
              "scope.google.colab = scope.google.colab || {};\n",
              "scope.google.colab._files = {\n",
              "  _uploadFiles,\n",
              "  _uploadFilesContinue,\n",
              "};\n",
              "})(self);\n",
              "</script> "
            ]
          },
          "metadata": {}
        },
        {
          "output_type": "stream",
          "name": "stdout",
          "text": [
            "Saving Global Cybersecurity Threats 2015 to 2024 TH.csv to Global Cybersecurity Threats 2015 to 2024 TH (1).csv\n",
            "      Country  Year        Attack Type     Target Industry  \\\n",
            "0       China  2019           Phishing           Education   \n",
            "1       China  2019         Ransomware              Retail   \n",
            "2       India  2017  Man-in-the-Middle                  IT   \n",
            "3          UK  2024         Ransomware  Telecommunications   \n",
            "4     Germany  2018  Man-in-the-Middle                  IT   \n",
            "...       ...   ...                ...                 ...   \n",
            "2995       UK  2021         Ransomware          Government   \n",
            "2996   Brazil  2023      SQL Injection  Telecommunications   \n",
            "2997   Brazil  2017      SQL Injection                  IT   \n",
            "2998       UK  2022      SQL Injection                  IT   \n",
            "2999  Germany  2021      SQL Injection              Retail   \n",
            "\n",
            "      Financial Loss (in Million $)  Number of Affected Users Attack Source  \\\n",
            "0                             80.53                    773169  Hacker Group   \n",
            "1                             62.19                    295961  Hacker Group   \n",
            "2                             38.65                    605895  Hacker Group   \n",
            "3                             41.44                    659320  Nation-state   \n",
            "4                             74.41                    810682       Insider   \n",
            "...                             ...                       ...           ...   \n",
            "2995                          51.42                    190694       Unknown   \n",
            "2996                          30.28                    892843  Hacker Group   \n",
            "2997                          32.97                    734737  Nation-state   \n",
            "2998                          32.17                    379954       Insider   \n",
            "2999                          48.20                    480984       Unknown   \n",
            "\n",
            "     Security Vulnerability Type Defense Mechanism Used  \\\n",
            "0             Unpatched Software                    VPN   \n",
            "1             Unpatched Software               Firewall   \n",
            "2                 Weak Passwords                    VPN   \n",
            "3             Social Engineering     AI-based Detection   \n",
            "4             Social Engineering                    VPN   \n",
            "...                          ...                    ...   \n",
            "2995          Social Engineering               Firewall   \n",
            "2996                    Zero-day                    VPN   \n",
            "2997              Weak Passwords     AI-based Detection   \n",
            "2998          Unpatched Software               Firewall   \n",
            "2999                    Zero-day                    VPN   \n",
            "\n",
            "      Incident Resolution Time (in Hours)  \n",
            "0                                      63  \n",
            "1                                      71  \n",
            "2                                      20  \n",
            "3                                       7  \n",
            "4                                      68  \n",
            "...                                   ...  \n",
            "2995                                   52  \n",
            "2996                                   26  \n",
            "2997                                   30  \n",
            "2998                                    9  \n",
            "2999                                   64  \n",
            "\n",
            "[3000 rows x 10 columns]\n"
          ]
        }
      ],
      "source": [
        "from google.colab import files\n",
        "uploaded = files. upload()\n",
        "\n",
        "import pandas as pd\n",
        "df = pd.read_csv('/content/Global Cybersecurity Threats 2015 to 2024 TH.csv')\n",
        "print (df)"
      ]
    },
    {
      "cell_type": "markdown",
      "source": [
        "1. What is the average global financial loss from these cyber attacks?"
      ],
      "metadata": {
        "id": "KoZEfkdWT4eg"
      }
    },
    {
      "cell_type": "code",
      "source": [
        "col = pd.to_numeric(df['Financial Loss (in Million $)'].iloc[:4], errors='coerce') # data cleaning parameter\n",
        "average = col.mean()\n",
        "print(f\"Average Global Financial Loss from Cyber Attacks 2015-2024:${average:,.2f} million\") # comma separator, 2 decimal places, needs to be in f string"
      ],
      "metadata": {
        "colab": {
          "base_uri": "https://localhost:8080/"
        },
        "id": "6VXpFVSJDX9I",
        "outputId": "fd0aa785-59a4-4f14-9788-791365659ccd"
      },
      "execution_count": null,
      "outputs": [
        {
          "output_type": "stream",
          "name": "stdout",
          "text": [
            "Average Global Financial Loss from Cyber Attacks 2015-2024:$55.70 million\n"
          ]
        }
      ]
    },
    {
      "cell_type": "markdown",
      "source": [
        "2. What is the most common type of cyber attack?"
      ],
      "metadata": {
        "id": "Ck9ej_mWXHye"
      }
    },
    {
      "cell_type": "code",
      "source": [
        "most_common_attack = df['Attack Type'].value_counts().idxmax()\n",
        "count = df['Attack Type'].value_counts().max()\n",
        "print(f\"The most common cyber attack between 2015 -2024 is '{most_common_attack}'\")"
      ],
      "metadata": {
        "colab": {
          "base_uri": "https://localhost:8080/"
        },
        "id": "GcyMWOP4KUAY",
        "outputId": "52fc57b2-17b1-4a09-d995-c623f1d8061a",
        "collapsed": true
      },
      "execution_count": null,
      "outputs": [
        {
          "output_type": "stream",
          "name": "stdout",
          "text": [
            "The most common cyber attack between 2015 -2024 is 'DDoS'\n"
          ]
        }
      ]
    },
    {
      "cell_type": "markdown",
      "source": [
        "3. Which country has had the most cyber attacks?"
      ],
      "metadata": {
        "id": "Wft6xGm_YsNF"
      }
    },
    {
      "cell_type": "code",
      "source": [
        "country_counts = df['country'].value_counts()\n",
        "\n",
        "top_3_countries = country_counts.nlargest(3)\n",
        "print(\"Top 3 countries with the most cyber attacks:\")\n",
        "for country, count in top_3_countries.items():\n",
        "  print(f\"{country}: {count} attacks\")\n",
        "\n"
      ],
      "metadata": {
        "colab": {
          "base_uri": "https://localhost:8080/"
        },
        "id": "_yGaYrA-Yl5d",
        "outputId": "38980254-db22-4011-c0b2-7e9a7be752ad",
        "collapsed": true
      },
      "execution_count": null,
      "outputs": [
        {
          "output_type": "stream",
          "name": "stdout",
          "text": [
            "Top 3 countries with the most cyber attacks:\n",
            "UK: 321 attacks\n",
            "Brazil: 310 attacks\n",
            "India: 308 attacks\n"
          ]
        }
      ]
    },
    {
      "cell_type": "markdown",
      "source": [
        "4. Which three industries had the most attacks?"
      ],
      "metadata": {
        "id": "a0mzihznJcRi"
      }
    },
    {
      "cell_type": "code",
      "source": [
        "df.columns = df.columns.str.strip().str.lower()  #datacleaning\n",
        "industry_counts = df['target industry'].value_counts() # Groups the industry column and counts the number of attacks\n",
        "top_3_industries = industry_counts.nlargest(3)\n",
        "print(\"Top 3 industries with the most cyber attacks:\")\n",
        "for industry, count in top_3_industries.items():\n",
        "  print(f\"{industry}: {count} attacks\")"
      ],
      "metadata": {
        "colab": {
          "base_uri": "https://localhost:8080/"
        },
        "id": "s1JbeAwZBwb9",
        "outputId": "ead3d372-1e0b-492b-c7f8-328d9af97c8a"
      },
      "execution_count": null,
      "outputs": [
        {
          "output_type": "stream",
          "name": "stdout",
          "text": [
            "Top 3 industries with the most cyber attacks:\n",
            "IT: 478 attacks\n",
            "Banking: 445 attacks\n",
            "Healthcare: 429 attacks\n"
          ]
        }
      ]
    },
    {
      "cell_type": "markdown",
      "source": [
        "5. Which country has the most diverse set of attacks over 2015-2024?"
      ],
      "metadata": {
        "id": "bLC1jmWWIet_"
      }
    },
    {
      "cell_type": "code",
      "source": [
        "\n",
        "attack_diversity = df.groupby('Country')['Attack Type'].nunique().reset_index()\n",
        "\n",
        "attack_diversity.columns = ['Country', 'Unique Attack Types']\n",
        "\n",
        "most_diverse_country = attack_diversity.loc[\n",
        "    attack_diversity['Unique Attack Types'].idxmax()]\n",
        "\n",
        "print(attack_diversity.to_string(index=False))"
      ],
      "metadata": {
        "colab": {
          "base_uri": "https://localhost:8080/"
        },
        "id": "6FmW_KXpA-Ap",
        "outputId": "3140d83d-8284-48c5-c4bf-5e7636abea57",
        "collapsed": true
      },
      "execution_count": null,
      "outputs": [
        {
          "output_type": "stream",
          "name": "stdout",
          "text": [
            "  Country  Unique Attack Types\n",
            "Australia                    6\n",
            "   Brazil                    6\n",
            "    China                    6\n",
            "   France                    6\n",
            "  Germany                    6\n",
            "    India                    6\n",
            "    Japan                    6\n",
            "   Russia                    6\n",
            "       UK                    6\n",
            "      USA                    6\n"
          ]
        }
      ]
    },
    {
      "cell_type": "markdown",
      "source": [
        "6. Which type of cyber attack impacted the most users?"
      ],
      "metadata": {
        "id": "lOY1YnLAltr-"
      }
    },
    {
      "cell_type": "code",
      "source": [
        "affected_users_by_attack = df.groupby('Attack Type')['Number of Affected Users'].sum()\n",
        "most_damaging_attack_type = affected_users_by_attack.idxmax()\n",
        "max_affected_users = affected_users_by_attack.max()\n",
        "print(\"Attack type that affected the most users:\", most_damaging_attack_type)\n",
        "print(f\"Number of affected users: {max_affected_users:,}\")"
      ],
      "metadata": {
        "colab": {
          "base_uri": "https://localhost:8080/"
        },
        "id": "yHJwcPCIX3sp",
        "outputId": "8db4a7e0-e8a3-4803-9ede-bc688b02c5ec"
      },
      "execution_count": null,
      "outputs": [
        {
          "output_type": "stream",
          "name": "stdout",
          "text": [
            "Attack type that affected the most users: DDoS\n",
            "Number of affected users: 265,201,265\n"
          ]
        }
      ]
    },
    {
      "cell_type": "markdown",
      "source": [
        "7. What is the relationship between the defence mechanism used and the time it took to resolve the cyber attack?"
      ],
      "metadata": {
        "id": "QwWCBeDJXjHr"
      }
    },
    {
      "cell_type": "code",
      "source": [
        "\n",
        "df['Incident Resolution Time (in Hours)'] = pd.to_numeric(df['Incident Resolution Time (in Hours)'], errors='coerce') #Ensures all cells are numeric\n",
        "df_cleaned = df.dropna(subset=['Defense Mechanism Used', 'Incident Resolution Time (in Hours)']) #Removes rows in the columns with missing values\n",
        "\n",
        "grouped = df_cleaned.groupby('Defense Mechanism Used')['Incident Resolution Time (in Hours)'].mean().sort_values() #Groups each DM and calculates mean RT\n",
        "grouped = grouped.reset_index() # reset_index() converts the grouped (which is a series) into a DataFrame.\n",
        "print (f\"{'Defense Mechanism Used':<25} {'Recovery Time in hours':>20}\") # this is what re-names the columns\n",
        "for index, row in grouped.iterrows():\n",
        "  print(f\"{row['Defense Mechanism Used']:<25} {row['Incident Resolution Time (in Hours)']:>19,.2f}\")\n",
        "\n",
        "\n"
      ],
      "metadata": {
        "colab": {
          "base_uri": "https://localhost:8080/"
        },
        "id": "Wo3d56liXhvw",
        "outputId": "e9a365ce-5259-4baa-cbdb-6c791cd9acba"
      },
      "execution_count": null,
      "outputs": [
        {
          "output_type": "stream",
          "name": "stdout",
          "text": [
            "Defense Mechanism Used    Recovery Time in hours\n",
            "Firewall                                35.71\n",
            "Antivirus                               36.57\n",
            "Encryption                              36.59\n",
            "AI-based Detection                      36.61\n",
            "VPN                                     36.86\n"
          ]
        }
      ]
    },
    {
      "cell_type": "markdown",
      "source": [
        "8. What is the relationship between the industry targeted and the financial loss incurred?"
      ],
      "metadata": {
        "id": "Q9sWm5KOzEo8"
      }
    },
    {
      "cell_type": "code",
      "source": [
        "\n",
        "df['Financial Loss (in Million $)'] = pd.to_numeric(df['Financial Loss (in Million $)'], errors='coerce') #Ensures all cells are numeric\n",
        "df_cleaned = df.dropna(subset=['Target Industry', 'Financial Loss (in Million $)']) #Removes rows in the columns with missing values\n",
        "\n",
        "grouped = df_cleaned.groupby('Target Industry')['Financial Loss (in Million $)'].mean().reset_index()\n",
        "grouped = grouped.sort_values(by='Financial Loss (in Million $)')\n",
        "grouped['Average Loss (in Million $)'] = grouped['Financial Loss (in Million $)']\n",
        "grouped.columns = ['Industry', 'Financial Loss (in Million $)', 'Average Loss (in Million $)']\n",
        "print (f\"{'Industry':<25} {'Avg Financial Loss':>20}\")\n",
        "for index, row in grouped.iterrows():\n",
        "    print(f\"{row['Industry']:<25} ${row['Financial Loss (in Million $)']:>19,.2f}\")\n"
      ],
      "metadata": {
        "colab": {
          "base_uri": "https://localhost:8080/"
        },
        "id": "KTblkQfSuywp",
        "outputId": "4fe969a0-f079-4757-cb5a-e05b6dd5c05e"
      },
      "execution_count": null,
      "outputs": [
        {
          "output_type": "stream",
          "name": "stdout",
          "text": [
            "Industry                    Avg Financial Loss\n",
            "Education                 $              47.90\n",
            "Healthcare                $              49.05\n",
            "Retail                    $              49.93\n",
            "Telecommunications        $              50.77\n",
            "Banking                   $              51.17\n",
            "IT                        $              51.90\n",
            "Government                $              52.62\n"
          ]
        }
      ]
    },
    {
      "cell_type": "markdown",
      "source": [
        "9. How fast do countries resolve the cyber attacks?"
      ],
      "metadata": {
        "id": "FQKh6fzoO2om"
      }
    },
    {
      "cell_type": "code",
      "source": [
        "df['Incident Resolution Time (in Hours)'] = pd.to_numeric(df['Incident Resolution Time (in Hours)'], errors='coerce') #Ensures all cells are numeric\n",
        "df_cleaned = df.dropna(subset=['Country', 'Incident Resolution Time (in Hours)']) #Removes rows in the columns with missing values\n",
        "\n",
        "grouped = df_cleaned.groupby('Country')['Incident Resolution Time (in Hours)'].mean().sort_values() #Groups each DM and calculates mean RT\n",
        "grouped = grouped.reset_index() # reset_index() converts the grouped (which is a series) into a DataFrame.\n",
        "print (f\"{'Country':<25} {'Recovery Time in hours':>20}\") # this is what re-names the columns\n",
        "for index, row in grouped.iterrows():\n",
        "  print(f\"{row['Country']:<25} {row['Incident Resolution Time (in Hours)']:>19,.2f}\")\n",
        "\n",
        "\n"
      ],
      "metadata": {
        "colab": {
          "base_uri": "https://localhost:8080/"
        },
        "collapsed": true,
        "id": "xY5Gfu4L6-RS",
        "outputId": "fc601f93-3c10-490c-affb-3183ef28d08b"
      },
      "execution_count": null,
      "outputs": [
        {
          "output_type": "stream",
          "name": "stdout",
          "text": [
            "Country                   Recovery Time in hours\n",
            "USA                                     35.31\n",
            "Russia                                  35.54\n",
            "India                                   35.93\n",
            "Germany                                 36.02\n",
            "France                                  36.22\n",
            "Australia                               36.48\n",
            "UK                                      36.93\n",
            "Japan                                   37.10\n",
            "China                                   37.40\n",
            "Brazil                                  37.76\n"
          ]
        }
      ]
    },
    {
      "cell_type": "markdown",
      "source": [],
      "metadata": {
        "id": "lYyyS2IT0SNt"
      }
    }
  ]
}